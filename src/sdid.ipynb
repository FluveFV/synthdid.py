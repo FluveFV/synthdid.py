{
 "cells": [
  {
   "cell_type": "code",
   "execution_count": 14,
   "metadata": {},
   "outputs": [],
   "source": [
    "from sdid import sdid\n",
    "import pandas as pd\n",
    "from get_data import quota, california_prop99"
   ]
  },
  {
   "cell_type": "code",
   "execution_count": 15,
   "metadata": {},
   "outputs": [
    {
     "name": "stdout",
     "output_type": "stream",
     "text": [
      "-15.60383\n"
     ]
    }
   ],
   "source": [
    "a = sdid(california_prop99(), \"State\", \"Year\", \"treated\", \"PacksPerCapita\")\n",
    "print(a)"
   ]
  },
  {
   "cell_type": "code",
   "execution_count": 16,
   "metadata": {},
   "outputs": [
    {
     "name": "stdout",
     "output_type": "stream",
     "text": [
      "8.03402\n"
     ]
    }
   ],
   "source": [
    "b = sdid(quota(), \"country\", \"year\", \"quota\", \"womparl\")\n",
    "print(b)"
   ]
  },
  {
   "cell_type": "code",
   "execution_count": 17,
   "metadata": {},
   "outputs": [
    {
     "data": {
      "text/plain": [
       "10.33052"
      ]
     },
     "execution_count": 17,
     "metadata": {},
     "output_type": "execute_result"
    }
   ],
   "source": [
    "qta = quota()\n",
    "drop_country = [\n",
    "\t\"Algeria\", \"Kenya\", \"Samoa\", \"Swaziland\", \"Tanzania\"\n",
    "]\n",
    "quota_if = qta.query(\"country not in @drop_country\")\n",
    "c = sdid(quota_if, \"country\", \"year\", \"quota\", \"womparl\")\n",
    "c"
   ]
  },
  {
   "cell_type": "code",
   "execution_count": 1,
   "metadata": {},
   "outputs": [],
   "source": [
    "import numpy as np, pandas as pd\n",
    "from get_data import quota, california_prop99\n",
    "from utils import panel_matrices, collapse_form, sum_normalize, att_mult\n",
    "from solver import fw_step, sc_weight_fw, sc_weight_covariates\n",
    "from sdid import sparsify_function, varianza, sdid\n",
    "# sdid(quota(), \"country\", \"year\", \"quota\", \"womparl\", [\"lnmmrt\", \"lngdp\"])"
   ]
  },
  {
   "cell_type": "code",
   "execution_count": 3,
   "metadata": {},
   "outputs": [
    {
     "data": {
      "text/plain": [
       "-15.60383"
      ]
     },
     "execution_count": 3,
     "metadata": {},
     "output_type": "execute_result"
    }
   ],
   "source": [
    "cal1 = sdid(california_prop99(), \"State\", \"Year\", \"treated\", \"PacksPerCapita\")\n",
    "cal1[\"att\"]"
   ]
  },
  {
   "attachments": {},
   "cell_type": "markdown",
   "metadata": {},
   "source": [
    "## Vcov\n",
    "\n",
    "### Jackknife"
   ]
  },
  {
   "cell_type": "code",
   "execution_count": 7,
   "metadata": {},
   "outputs": [
    {
     "data": {
      "text/plain": [
       "{'att': 10.33066,\n",
       " 'att_info':      time   att_time    att_wt   N0  T0  N1  T1\n",
       " 0  2002.0   6.967746  0.518519  110  12   2  14\n",
       " 1  2003.0  13.952256  0.481481  110  13   2  13,\n",
       " 'weights': {'lambda': [array([0.        , 0.18692424, 0.        , 0.        , 0.        ,\n",
       "          0.        , 0.        , 0.        , 0.11309248, 0.12219293,\n",
       "          0.        , 0.57779035]),\n",
       "   array([0.        , 0.18422749, 0.        , 0.        , 0.        ,\n",
       "          0.        , 0.        , 0.        , 0.0887519 , 0.05663246,\n",
       "          0.        , 0.        , 0.67038816])],\n",
       "  'omega': [array([0.00686606, 0.00308393, 0.        , 0.00401   , 0.00134109,\n",
       "          0.01125434, 0.00545765, 0.00999792, 0.        , 0.00923891,\n",
       "          0.01667525, 0.01343713, 0.        , 0.0141093 , 0.        ,\n",
       "          0.00976986, 0.02344187, 0.01092555, 0.00921574, 0.00893749,\n",
       "          0.01470498, 0.        , 0.00544846, 0.01022   , 0.00497425,\n",
       "          0.007856  , 0.00722675, 0.00858603, 0.        , 0.01078756,\n",
       "          0.01760597, 0.01768181, 0.00757465, 0.00736719, 0.00345751,\n",
       "          0.01054829, 0.        , 0.0138337 , 0.02362139, 0.01150153,\n",
       "          0.01033851, 0.01170944, 0.        , 0.01315588, 0.02071076,\n",
       "          0.01469525, 0.01621296, 0.00889203, 0.01472513, 0.01233507,\n",
       "          0.00919303, 0.00894937, 0.01387413, 0.00929249, 0.01425808,\n",
       "          0.00079974, 0.01506293, 0.01532055, 0.0154295 , 0.01310242,\n",
       "          0.00907279, 0.01472082, 0.00337348, 0.01022993, 0.00458778,\n",
       "          0.        , 0.00123201, 0.        , 0.00936054, 0.00041972,\n",
       "          0.00408712, 0.01267392, 0.01971503, 0.01143967, 0.0116354 ,\n",
       "          0.01392014, 0.00596868, 0.006194  , 0.00211508, 0.00064596,\n",
       "          0.01907741, 0.01329585, 0.00910589, 0.00570016, 0.01658056,\n",
       "          0.00203947, 0.        , 0.01551489, 0.00082718, 0.00492979,\n",
       "          0.        , 0.00469613, 0.00948014, 0.01199292, 0.01054444,\n",
       "          0.01206566, 0.01869088, 0.02256367, 0.00531217, 0.01115323,\n",
       "          0.        , 0.01430533, 0.00228869, 0.01146137, 0.00599178,\n",
       "          0.00708514, 0.00336155, 0.01367451, 0.00999681, 0.01805688]),\n",
       "   array([0.        , 0.0281984 , 0.        , 0.        , 0.03310489,\n",
       "          0.        , 0.02706582, 0.        , 0.02752745, 0.        ,\n",
       "          0.        , 0.        , 0.00130518, 0.        , 0.02525672,\n",
       "          0.03943846, 0.        , 0.        , 0.        , 0.        ,\n",
       "          0.        , 0.044065  , 0.01848107, 0.        , 0.04101528,\n",
       "          0.01860397, 0.00704538, 0.00590453, 0.0389691 , 0.        ,\n",
       "          0.        , 0.01542341, 0.01699068, 0.        , 0.        ,\n",
       "          0.00220615, 0.        , 0.        , 0.05144128, 0.00812894,\n",
       "          0.0060169 , 0.        , 0.02703919, 0.        , 0.        ,\n",
       "          0.        , 0.        , 0.01095497, 0.        , 0.        ,\n",
       "          0.0075664 , 0.02389488, 0.        , 0.00699164, 0.        ,\n",
       "          0.05577625, 0.        , 0.00049903, 0.        , 0.04956133,\n",
       "          0.        , 0.        , 0.0094259 , 0.        , 0.        ,\n",
       "          0.01175119, 0.        , 0.        , 0.        , 0.        ,\n",
       "          0.        , 0.01505053, 0.        , 0.        , 0.        ,\n",
       "          0.        , 0.02444992, 0.00273797, 0.        , 0.0212095 ,\n",
       "          0.        , 0.02259992, 0.01004971, 0.01794685, 0.        ,\n",
       "          0.        , 0.04241343, 0.        , 0.        , 0.03047742,\n",
       "          0.01041086, 0.        , 0.        , 0.        , 0.        ,\n",
       "          0.0429119 , 0.        , 0.02067719, 0.        , 0.        ,\n",
       "          0.        , 0.        , 0.03252556, 0.        , 0.00312043,\n",
       "          0.01077696, 0.03299251, 0.        , 0.        , 0.        ])]},\n",
       " 'data_ref':       time    outcome  treatment  treated      ty   tyear       unit\n",
       " 0     1990  28.799999          0        0     0.0     0.0    Albania\n",
       " 26    1990  14.500000          0        0     0.0     0.0     Angola\n",
       " 52    1990   6.300000          0        0     0.0     0.0  Argentina\n",
       " 78    1990  35.599998          0        0     0.0     0.0    Armenia\n",
       " 104   1990   6.100000          0        0     0.0     0.0  Australia\n",
       " ...    ...        ...        ...      ...     ...     ...        ...\n",
       " 2208  2014  63.799999          1        1  2014.0  2003.0     Rwanda\n",
       " 727   2015  12.727270          1        1  2015.0  2002.0   Djibouti\n",
       " 1377  2015  12.000000          1        1  2015.0  2003.0     Jordan\n",
       " 1793  2015  16.962021          1        1  2015.0  2002.0    Morocco\n",
       " 2209  2015  63.750000          1        1  2015.0  2003.0     Rwanda\n",
       " \n",
       " [2964 rows x 7 columns],\n",
       " 'break_points': array([2002., 2003.])}"
      ]
     },
     "execution_count": 7,
     "metadata": {},
     "output_type": "execute_result"
    }
   ],
   "source": [
    "quota_data = quota()\n",
    "not_in_unit = [\"Algeria\", \"Kenya\", \"Samoa\", \"Swaziland\", \"Tanzania\"]\n",
    "# quota_data1 = quota_data[~quota_data[\"country\"].isin(not_in_unit)].dropna(subset=[\"country\"])\n",
    "# quota_data1.info()\n",
    "quota_drop = quota_data.query(\"country not in @not_in_unit\")\n",
    "q1 = sdid(quota_drop, \"country\", \"year\", \"quota\", \"womparl\")\n",
    "q1"
   ]
  },
  {
   "cell_type": "code",
   "execution_count": 9,
   "metadata": {},
   "outputs": [],
   "source": [
    "estimate = q1\n",
    "data_ref, time_break = estimate[\"data_ref\"], estimate[\"break_points\"]"
   ]
  },
  {
   "cell_type": "code",
   "execution_count": 10,
   "metadata": {},
   "outputs": [],
   "source": [
    "uniqID = np.unique(data_ref[\"unit\"])\n",
    "N = len(uniqID)\n",
    "weigths = estimate[\"weights\"]\n",
    "lambda_estimate, omega_estimate = np.array(weigths[\"lambda\"], dtype = object), np.array(weigths[\"omega\"], dtype = object)"
   ]
  },
  {
   "cell_type": "code",
   "execution_count": 26,
   "metadata": {},
   "outputs": [],
   "source": [
    "ind, id_id = 0, 0\n",
    "\n",
    "def theta_jk(ind, _id):\n",
    "    omega_aux = sum_normalize(omega_estimate[_id])\n",
    "    if ind < len(omega_estimate):\n",
    "        omega_aux = sum_normalize(np.delete(omega_estimate[_id], ind))\n",
    "    lambda_aux = lambda_estimate[_id]\n",
    "    drop_unit, tyear_filter = uniqID[ind], [0, time_break[_id]]\n",
    "    \n",
    "    data_aux = data_ref.query(\"unit not in @drop_unit\").query(\"tyear in @tyear_filter\")\n",
    "    yng = data_aux.groupby('unit').size().shape[0]\n",
    "    ynt = data_aux.groupby('unit').size().min()\n",
    "    N1 = int((data_aux['tyear'] == time_break[_id]).sum() / ynt)\n",
    "    npre = data_aux[data_aux['time'] < time_break[_id]].groupby('time').size().shape[0]\n",
    "    T1 = int(ynt - npre)\n",
    "    tau_wt_aux = N1 * T1\n",
    "\n",
    "    Y = data_aux.pivot_table(index=\"unit\", columns=\"time\", values=\"outcome\", sort=False)\n",
    "    Y_beta = np.array(Y)\n",
    "    nt = Y.shape\n",
    "    N1, T1 = int(nt[0] - len(omega_aux)), int(nt[1] - len(lambda_aux))\n",
    "    weights_omega = np.concatenate((-omega_aux, np.full(N1, 1/N1)))\n",
    "    weights_lambda = np.concatenate((-lambda_aux, np.full(T1, 1/T1)))\n",
    "    tau_aux = np.dot(weights_omega, Y).dot(weights_lambda)\n",
    "\n",
    "    # return pd.DataFrame({'unit': [uniqID[ind]], 'time': [time_break[_id]], 'tau_aux': [tau_aux], 'tau_wt_aux': [tau_wt_aux]})\n"
   ]
  },
  {
   "cell_type": "code",
   "execution_count": 27,
   "metadata": {},
   "outputs": [],
   "source": [
    "for i, j in itertools.product(range(N), range(len(time_break))):\n",
    "    theta_jk(i, j)"
   ]
  },
  {
   "cell_type": "code",
   "execution_count": 37,
   "metadata": {},
   "outputs": [],
   "source": [
    "theta_jk(25, 1)\n",
    "import itertools\n",
    "att_table = pd.concat([theta_jk(i, j) for i, j in itertools.product(range(N), range(len(time_break)))], ignore_index=True)\n"
   ]
  },
  {
   "cell_type": "code",
   "execution_count": 43,
   "metadata": {},
   "outputs": [
    {
     "data": {
      "text/html": [
       "<div>\n",
       "<style scoped>\n",
       "    .dataframe tbody tr th:only-of-type {\n",
       "        vertical-align: middle;\n",
       "    }\n",
       "\n",
       "    .dataframe tbody tr th {\n",
       "        vertical-align: top;\n",
       "    }\n",
       "\n",
       "    .dataframe thead th {\n",
       "        text-align: right;\n",
       "    }\n",
       "</style>\n",
       "<table border=\"1\" class=\"dataframe\">\n",
       "  <thead>\n",
       "    <tr style=\"text-align: right;\">\n",
       "      <th></th>\n",
       "      <th>unit</th>\n",
       "      <th>time</th>\n",
       "      <th>tau_aux</th>\n",
       "      <th>tau_wt_aux</th>\n",
       "      <th>tau_wt</th>\n",
       "      <th>att_aux</th>\n",
       "    </tr>\n",
       "  </thead>\n",
       "  <tbody>\n",
       "    <tr>\n",
       "      <th>0</th>\n",
       "      <td>Albania</td>\n",
       "      <td>2002.0</td>\n",
       "      <td>6.979981</td>\n",
       "      <td>28</td>\n",
       "      <td>0.518519</td>\n",
       "      <td>3.619249</td>\n",
       "    </tr>\n",
       "    <tr>\n",
       "      <th>1</th>\n",
       "      <td>Albania</td>\n",
       "      <td>2003.0</td>\n",
       "      <td>13.952256</td>\n",
       "      <td>26</td>\n",
       "      <td>0.481481</td>\n",
       "      <td>6.717753</td>\n",
       "    </tr>\n",
       "    <tr>\n",
       "      <th>2</th>\n",
       "      <td>Angola</td>\n",
       "      <td>2002.0</td>\n",
       "      <td>6.987142</td>\n",
       "      <td>28</td>\n",
       "      <td>0.518519</td>\n",
       "      <td>3.622962</td>\n",
       "    </tr>\n",
       "    <tr>\n",
       "      <th>3</th>\n",
       "      <td>Angola</td>\n",
       "      <td>2003.0</td>\n",
       "      <td>14.136355</td>\n",
       "      <td>26</td>\n",
       "      <td>0.481481</td>\n",
       "      <td>6.806393</td>\n",
       "    </tr>\n",
       "    <tr>\n",
       "      <th>4</th>\n",
       "      <td>Argentina</td>\n",
       "      <td>2002.0</td>\n",
       "      <td>6.959207</td>\n",
       "      <td>28</td>\n",
       "      <td>0.518519</td>\n",
       "      <td>3.608478</td>\n",
       "    </tr>\n",
       "    <tr>\n",
       "      <th>...</th>\n",
       "      <td>...</td>\n",
       "      <td>...</td>\n",
       "      <td>...</td>\n",
       "      <td>...</td>\n",
       "      <td>...</td>\n",
       "      <td>...</td>\n",
       "    </tr>\n",
       "    <tr>\n",
       "      <th>223</th>\n",
       "      <td>Yemen, Rep.</td>\n",
       "      <td>2003.0</td>\n",
       "      <td>26.303416</td>\n",
       "      <td>26</td>\n",
       "      <td>0.481481</td>\n",
       "      <td>12.664608</td>\n",
       "    </tr>\n",
       "    <tr>\n",
       "      <th>224</th>\n",
       "      <td>Zambia</td>\n",
       "      <td>2002.0</td>\n",
       "      <td>7.197983</td>\n",
       "      <td>28</td>\n",
       "      <td>0.518519</td>\n",
       "      <td>3.732288</td>\n",
       "    </tr>\n",
       "    <tr>\n",
       "      <th>225</th>\n",
       "      <td>Zambia</td>\n",
       "      <td>2003.0</td>\n",
       "      <td>26.303416</td>\n",
       "      <td>26</td>\n",
       "      <td>0.481481</td>\n",
       "      <td>12.664608</td>\n",
       "    </tr>\n",
       "    <tr>\n",
       "      <th>226</th>\n",
       "      <td>Zimbabwe</td>\n",
       "      <td>2002.0</td>\n",
       "      <td>7.227991</td>\n",
       "      <td>28</td>\n",
       "      <td>0.518519</td>\n",
       "      <td>3.747847</td>\n",
       "    </tr>\n",
       "    <tr>\n",
       "      <th>227</th>\n",
       "      <td>Zimbabwe</td>\n",
       "      <td>2003.0</td>\n",
       "      <td>26.303416</td>\n",
       "      <td>26</td>\n",
       "      <td>0.481481</td>\n",
       "      <td>12.664608</td>\n",
       "    </tr>\n",
       "  </tbody>\n",
       "</table>\n",
       "<p>228 rows × 6 columns</p>\n",
       "</div>"
      ],
      "text/plain": [
       "            unit    time    tau_aux  tau_wt_aux    tau_wt    att_aux\n",
       "0        Albania  2002.0   6.979981          28  0.518519   3.619249\n",
       "1        Albania  2003.0  13.952256          26  0.481481   6.717753\n",
       "2         Angola  2002.0   6.987142          28  0.518519   3.622962\n",
       "3         Angola  2003.0  14.136355          26  0.481481   6.806393\n",
       "4      Argentina  2002.0   6.959207          28  0.518519   3.608478\n",
       "..           ...     ...        ...         ...       ...        ...\n",
       "223  Yemen, Rep.  2003.0  26.303416          26  0.481481  12.664608\n",
       "224       Zambia  2002.0   7.197983          28  0.518519   3.732288\n",
       "225       Zambia  2003.0  26.303416          26  0.481481  12.664608\n",
       "226     Zimbabwe  2002.0   7.227991          28  0.518519   3.747847\n",
       "227     Zimbabwe  2003.0  26.303416          26  0.481481  12.664608\n",
       "\n",
       "[228 rows x 6 columns]"
      ]
     },
     "execution_count": 43,
     "metadata": {},
     "output_type": "execute_result"
    }
   ],
   "source": [
    "result = att_table.groupby('unit', group_keys=True)\\\n",
    "    .apply(\n",
    "        lambda x: x.assign(\n",
    "            tau_wt=x['tau_wt_aux'] / x['tau_wt_aux'].sum(),\n",
    "            # att_aux= (x['tau_aux'] * (x['tau_wt_aux'] / x['tau_wt_aux'].sum())).sum()\n",
    "            att_aux=x['tau_aux'] * (x['tau_wt_aux'] / x['tau_wt_aux'].sum())\n",
    "            )\n",
    "        ).reset_index(drop=True)\n",
    "result"
   ]
  },
  {
   "cell_type": "code",
   "execution_count": 49,
   "metadata": {},
   "outputs": [
    {
     "data": {
      "text/plain": [
       "265.1315201018747"
      ]
     },
     "execution_count": 49,
     "metadata": {},
     "output_type": "execute_result"
    }
   ],
   "source": [
    "att_aux = result.groupby(\"unit\").sum().att_aux.to_numpy()\n",
    "((N-1)/N) * (N - 1) * varianza(att_aux)"
   ]
  },
  {
   "cell_type": "code",
   "execution_count": 58,
   "metadata": {},
   "outputs": [],
   "source": [
    "att_aux_all = []\n",
    "for i in range(N):\n",
    "\tref_unit = uniqID[i]\n",
    "\tref_tbl_unit = att_table.query(\"unit in @ref_unit\")\n",
    "\ttau_ref_aux = ref_tbl_unit.tau_aux\n",
    "\ttau_wt_aux = ref_tbl_unit.tau_wt_aux\n",
    "\ttau_wt_aux = tau_wt_aux / np.sum(tau_wt_aux)\n",
    "\tatt_aux = np.dot(tau_ref_aux, tau_wt_aux)\n",
    "\tatt_aux_all.append(att_aux)"
   ]
  },
  {
   "attachments": {},
   "cell_type": "markdown",
   "metadata": {},
   "source": [
    "## Bootstrap"
   ]
  },
  {
   "cell_type": "code",
   "execution_count": null,
   "metadata": {},
   "outputs": [],
   "source": [
    "q2 = sdid(quota(), \"country\", 'year', 'quota', 'womparl')\n",
    "q2"
   ]
  },
  {
   "cell_type": "code",
   "execution_count": 3,
   "metadata": {},
   "outputs": [],
   "source": [
    "estimate = q2\n",
    "data_ref = estimate[\"data_ref\"]\n",
    "uniqueID = np.unique(data_ref.unit)\n",
    "N = len(uniqueID)"
   ]
  },
  {
   "cell_type": "code",
   "execution_count": 4,
   "metadata": {},
   "outputs": [],
   "source": [
    "def theta_bt():\n",
    "    sample_id = np.random.choice(uniqueID, replace=True, size=N)\n",
    "    def sample_concat(_id):\n",
    "        sample_id_n = sample_id[_id]\n",
    "        data_c = data_ref.query(\"unit in @sample_id_n\")\n",
    "        data_c = data_c.assign(unit1=str(data_c['unit']) + str(_id))\n",
    "        return data_c\n",
    "    sampled_df = pd.concat([sample_concat(i) for i in range(N)], ignore_index=True)\n",
    "    if len(np.unique(sampled_df.treatment)) != 2:\n",
    "        theta_bt()\n",
    "    att_aux = sdid(sampled_df, \"unit1\", \"time\", \"treatment\", \"outcome\")[\"att\"]\n",
    "    return att_aux\n"
   ]
  },
  {
   "cell_type": "code",
   "execution_count": 18,
   "metadata": {},
   "outputs": [],
   "source": [
    "t = 0\n",
    "att_bt = np.array([])\n",
    "n_reps = 50\n",
    "\n",
    "while t < n_reps:\n",
    "    t+= 1\n",
    "    aux = theta_bt()\n",
    "    att_bt = np.append(att_bt, aux)"
   ]
  },
  {
   "cell_type": "code",
   "execution_count": 19,
   "metadata": {},
   "outputs": [
    {
     "data": {
      "text/plain": [
       "3.743576763233814"
      ]
     },
     "execution_count": 19,
     "metadata": {},
     "output_type": "execute_result"
    }
   ],
   "source": [
    "se_bootstrap = np.sqrt(1 / n_reps * np.sum((att_bt - np.sum(att_bt / n_reps)) ** 2))\n",
    "se_bootstrap\n",
    "# return(se_bootstrap)()"
   ]
  },
  {
   "attachments": {},
   "cell_type": "markdown",
   "metadata": {},
   "source": [
    "##  Placebo"
   ]
  },
  {
   "cell_type": "code",
   "execution_count": 26,
   "metadata": {},
   "outputs": [],
   "source": [
    "data_ref = estimate[\"data_ref\"]\n",
    "tr_years = data_ref.query(\"time == tyear and tyear != 0\").time\n",
    "N_tr = len(tr_years)\n",
    "df_co = data_ref.query(\"treated == 0\")\n",
    "units_df_co = np.unique(df_co.unit)\n",
    "N_co = len(units_df_co)\n",
    "N_aux = N_co - N_tr"
   ]
  },
  {
   "cell_type": "code",
   "execution_count": 88,
   "metadata": {},
   "outputs": [],
   "source": [
    "def theta_pb():\n",
    "\tplabeo_years = pd.DataFrame({\n",
    "\t\t\"unit\" : np.random.choice(units_df_co, size = N_tr),\n",
    "\t\t'tyear1' : tr_years\n",
    "\t\t})\n",
    "\taux_data = df_co.merge(plabeo_years, on=\"unit\", how='outer').sort_values(\"tyear1\")\n",
    "\taux_data = aux_data.assign(\n",
    "\t\ttyear = aux_data.tyear1.fillna(aux_data[\"tyear\"])\n",
    "\t)\n",
    "\taux_data = aux_data.assign(\n",
    "\t\ttreatment = np.where(((aux_data.tyear != 0) & (aux_data.time == aux_data.tyear)), 1, 0)\n",
    "\t\t).groupby(\"unit\", group_keys=False).apply(\n",
    "\t\t\tlambda x: x.assign(\n",
    "\t\t\t\ttreated = x[\"treatment\"].max()\n",
    "\t\t\t)\n",
    "\t\t).reset_index(drop = True)\n",
    "\tatt = sdid(aux_data, \"unit\", \"time\", \"treatment\", \"outcome\")\n",
    "\treturn att[\"att\"]\n"
   ]
  },
  {
   "cell_type": "code",
   "execution_count": 94,
   "metadata": {},
   "outputs": [],
   "source": [
    "t = 0\n",
    "att_pb = np.array([])\n",
    "n_reps = 50\n",
    "\n",
    "while t < n_reps:\n",
    "    t += 1\n",
    "    aux = theta_pb()\n",
    "    att_pb = np.append(att_pb, aux)\n"
   ]
  },
  {
   "cell_type": "code",
   "execution_count": 98,
   "metadata": {},
   "outputs": [
    {
     "data": {
      "text/plain": [
       "1.5591266442311735"
      ]
     },
     "execution_count": 98,
     "metadata": {},
     "output_type": "execute_result"
    }
   ],
   "source": [
    "se_placebo = np.sqrt(1 / n_reps * np.sum((att_pb - np.sum(att_pb / n_reps)) ** 2))\n",
    "se_placebo"
   ]
  }
 ],
 "metadata": {
  "kernelspec": {
   "display_name": "synthdid.py-lMavOqyu",
   "language": "python",
   "name": "python3"
  },
  "language_info": {
   "codemirror_mode": {
    "name": "ipython",
    "version": 3
   },
   "file_extension": ".py",
   "mimetype": "text/x-python",
   "name": "python",
   "nbconvert_exporter": "python",
   "pygments_lexer": "ipython3",
   "version": "3.8.0"
  },
  "orig_nbformat": 4
 },
 "nbformat": 4,
 "nbformat_minor": 2
}

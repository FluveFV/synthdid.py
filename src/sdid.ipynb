{
 "cells": [
  {
   "cell_type": "code",
   "execution_count": 14,
   "metadata": {},
   "outputs": [],
   "source": [
    "from sdid import sdid\n",
    "import pandas as pd\n",
    "from get_data import quota, california_prop99"
   ]
  },
  {
   "cell_type": "code",
   "execution_count": 15,
   "metadata": {},
   "outputs": [
    {
     "name": "stdout",
     "output_type": "stream",
     "text": [
      "-15.60383\n"
     ]
    }
   ],
   "source": [
    "a = sdid(california_prop99(), \"State\", \"Year\", \"treated\", \"PacksPerCapita\")\n",
    "print(a)"
   ]
  },
  {
   "cell_type": "code",
   "execution_count": 16,
   "metadata": {},
   "outputs": [
    {
     "name": "stdout",
     "output_type": "stream",
     "text": [
      "8.03402\n"
     ]
    }
   ],
   "source": [
    "b = sdid(quota(), \"country\", \"year\", \"quota\", \"womparl\")\n",
    "print(b)"
   ]
  },
  {
   "cell_type": "code",
   "execution_count": 17,
   "metadata": {},
   "outputs": [
    {
     "data": {
      "text/plain": [
       "10.33052"
      ]
     },
     "execution_count": 17,
     "metadata": {},
     "output_type": "execute_result"
    }
   ],
   "source": [
    "qta = quota()\n",
    "drop_country = [\n",
    "\t\"Algeria\", \"Kenya\", \"Samoa\", \"Swaziland\", \"Tanzania\"\n",
    "]\n",
    "quota_if = qta.query(\"country not in @drop_country\")\n",
    "c = sdid(quota_if, \"country\", \"year\", \"quota\", \"womparl\")\n",
    "c"
   ]
  },
  {
   "cell_type": "code",
   "execution_count": 1,
   "metadata": {},
   "outputs": [],
   "source": [
    "import numpy as np, pandas as pd\n",
    "from get_data import quota, california_prop99\n",
    "from utils import panel_matrices, collapse_form, sum_normalize, att_mult\n",
    "from solver import fw_step, sc_weight_fw, sc_weight_covariates\n",
    "from sdid import sparsify_function, varianza, sdid\n",
    "# sdid(quota(), \"country\", \"year\", \"quota\", \"womparl\", [\"lnmmrt\", \"lngdp\"])"
   ]
  },
  {
   "cell_type": "code",
   "execution_count": 3,
   "metadata": {},
   "outputs": [
    {
     "data": {
      "text/plain": [
       "-15.60383"
      ]
     },
     "execution_count": 3,
     "metadata": {},
     "output_type": "execute_result"
    }
   ],
   "source": [
    "cal1 = sdid(california_prop99(), \"State\", \"Year\", \"treated\", \"PacksPerCapita\")\n",
    "cal1[\"att\"]"
   ]
  },
  {
   "attachments": {},
   "cell_type": "markdown",
   "metadata": {},
   "source": [
    "## Vcov\n",
    "\n",
    "### Jackknife"
   ]
  },
  {
   "cell_type": "code",
   "execution_count": null,
   "metadata": {},
   "outputs": [],
   "source": [
    "quota_data = quota()\n",
    "not_in_unit = [\"Algeria\", \"Kenya\", \"Samoa\", \"Swaziland\", \"Tanzania\"]\n",
    "# quota_data1 = quota_data[~quota_data[\"country\"].isin(not_in_unit)].dropna(subset=[\"country\"])\n",
    "# quota_data1.info()\n",
    "quota_drop = quota_data.query(\"country not in @not_in_unit\")\n",
    "q1 = sdid(quota_drop, \"country\", \"year\", \"quota\", \"womparl\")\n",
    "q1"
   ]
  },
  {
   "cell_type": "code",
   "execution_count": 9,
   "metadata": {},
   "outputs": [],
   "source": [
    "estimate = q1\n",
    "data_ref, time_break = estimate[\"data_ref\"], estimate[\"break_points\"]"
   ]
  },
  {
   "cell_type": "code",
   "execution_count": 10,
   "metadata": {},
   "outputs": [],
   "source": [
    "uniqID = np.unique(data_ref[\"unit\"])\n",
    "N = len(uniqID)\n",
    "weigths = estimate[\"weights\"]\n",
    "lambda_estimate, omega_estimate = np.array(weigths[\"lambda\"], dtype = object), np.array(weigths[\"omega\"], dtype = object)"
   ]
  },
  {
   "cell_type": "code",
   "execution_count": 26,
   "metadata": {},
   "outputs": [],
   "source": [
    "ind, id_id = 0, 0\n",
    "\n",
    "def theta_jk(ind, _id):\n",
    "    omega_aux = sum_normalize(omega_estimate[_id])\n",
    "    if ind < len(omega_estimate):\n",
    "        omega_aux = sum_normalize(np.delete(omega_estimate[_id], ind))\n",
    "    lambda_aux = lambda_estimate[_id]\n",
    "    drop_unit, tyear_filter = uniqID[ind], [0, time_break[_id]]\n",
    "    \n",
    "    data_aux = data_ref.query(\"unit not in @drop_unit\").query(\"tyear in @tyear_filter\")\n",
    "    yng = data_aux.groupby('unit').size().shape[0]\n",
    "    ynt = data_aux.groupby('unit').size().min()\n",
    "    N1 = int((data_aux['tyear'] == time_break[_id]).sum() / ynt)\n",
    "    npre = data_aux[data_aux['time'] < time_break[_id]].groupby('time').size().shape[0]\n",
    "    T1 = int(ynt - npre)\n",
    "    tau_wt_aux = N1 * T1\n",
    "\n",
    "    Y = data_aux.pivot_table(index=\"unit\", columns=\"time\", values=\"outcome\", sort=False)\n",
    "    Y_beta = np.array(Y)\n",
    "    nt = Y.shape\n",
    "    N1, T1 = int(nt[0] - len(omega_aux)), int(nt[1] - len(lambda_aux))\n",
    "    weights_omega = np.concatenate((-omega_aux, np.full(N1, 1/N1)))\n",
    "    weights_lambda = np.concatenate((-lambda_aux, np.full(T1, 1/T1)))\n",
    "    tau_aux = np.dot(weights_omega, Y).dot(weights_lambda)\n",
    "    return tau_aux\n",
    "    # return pd.DataFrame({'unit': [uniqID[ind]], 'time': [time_break[_id]], 'tau_aux': [tau_aux], 'tau_wt_aux': [tau_wt_aux]})\n"
   ]
  },
  {
   "cell_type": "code",
   "execution_count": 27,
   "metadata": {},
   "outputs": [],
   "source": [
    "for i, j in itertools.product(range(N), range(len(time_break))):\n",
    "    theta_jk(i, j)"
   ]
  },
  {
   "cell_type": "code",
   "execution_count": 37,
   "metadata": {},
   "outputs": [],
   "source": [
    "theta_jk(25, 1)\n",
    "import itertools\n",
    "att_table = pd.concat([theta_jk(i, j) for i, j in itertools.product(range(N), range(len(time_break)))], ignore_index=True)\n"
   ]
  },
  {
   "cell_type": "code",
   "execution_count": 43,
   "metadata": {},
   "outputs": [
    {
     "data": {
      "text/html": [
       "<div>\n",
       "<style scoped>\n",
       "    .dataframe tbody tr th:only-of-type {\n",
       "        vertical-align: middle;\n",
       "    }\n",
       "\n",
       "    .dataframe tbody tr th {\n",
       "        vertical-align: top;\n",
       "    }\n",
       "\n",
       "    .dataframe thead th {\n",
       "        text-align: right;\n",
       "    }\n",
       "</style>\n",
       "<table border=\"1\" class=\"dataframe\">\n",
       "  <thead>\n",
       "    <tr style=\"text-align: right;\">\n",
       "      <th></th>\n",
       "      <th>unit</th>\n",
       "      <th>time</th>\n",
       "      <th>tau_aux</th>\n",
       "      <th>tau_wt_aux</th>\n",
       "      <th>tau_wt</th>\n",
       "      <th>att_aux</th>\n",
       "    </tr>\n",
       "  </thead>\n",
       "  <tbody>\n",
       "    <tr>\n",
       "      <th>0</th>\n",
       "      <td>Albania</td>\n",
       "      <td>2002.0</td>\n",
       "      <td>6.979981</td>\n",
       "      <td>28</td>\n",
       "      <td>0.518519</td>\n",
       "      <td>3.619249</td>\n",
       "    </tr>\n",
       "    <tr>\n",
       "      <th>1</th>\n",
       "      <td>Albania</td>\n",
       "      <td>2003.0</td>\n",
       "      <td>13.952256</td>\n",
       "      <td>26</td>\n",
       "      <td>0.481481</td>\n",
       "      <td>6.717753</td>\n",
       "    </tr>\n",
       "    <tr>\n",
       "      <th>2</th>\n",
       "      <td>Angola</td>\n",
       "      <td>2002.0</td>\n",
       "      <td>6.987142</td>\n",
       "      <td>28</td>\n",
       "      <td>0.518519</td>\n",
       "      <td>3.622962</td>\n",
       "    </tr>\n",
       "    <tr>\n",
       "      <th>3</th>\n",
       "      <td>Angola</td>\n",
       "      <td>2003.0</td>\n",
       "      <td>14.136355</td>\n",
       "      <td>26</td>\n",
       "      <td>0.481481</td>\n",
       "      <td>6.806393</td>\n",
       "    </tr>\n",
       "    <tr>\n",
       "      <th>4</th>\n",
       "      <td>Argentina</td>\n",
       "      <td>2002.0</td>\n",
       "      <td>6.959207</td>\n",
       "      <td>28</td>\n",
       "      <td>0.518519</td>\n",
       "      <td>3.608478</td>\n",
       "    </tr>\n",
       "    <tr>\n",
       "      <th>...</th>\n",
       "      <td>...</td>\n",
       "      <td>...</td>\n",
       "      <td>...</td>\n",
       "      <td>...</td>\n",
       "      <td>...</td>\n",
       "      <td>...</td>\n",
       "    </tr>\n",
       "    <tr>\n",
       "      <th>223</th>\n",
       "      <td>Yemen, Rep.</td>\n",
       "      <td>2003.0</td>\n",
       "      <td>26.303416</td>\n",
       "      <td>26</td>\n",
       "      <td>0.481481</td>\n",
       "      <td>12.664608</td>\n",
       "    </tr>\n",
       "    <tr>\n",
       "      <th>224</th>\n",
       "      <td>Zambia</td>\n",
       "      <td>2002.0</td>\n",
       "      <td>7.197983</td>\n",
       "      <td>28</td>\n",
       "      <td>0.518519</td>\n",
       "      <td>3.732288</td>\n",
       "    </tr>\n",
       "    <tr>\n",
       "      <th>225</th>\n",
       "      <td>Zambia</td>\n",
       "      <td>2003.0</td>\n",
       "      <td>26.303416</td>\n",
       "      <td>26</td>\n",
       "      <td>0.481481</td>\n",
       "      <td>12.664608</td>\n",
       "    </tr>\n",
       "    <tr>\n",
       "      <th>226</th>\n",
       "      <td>Zimbabwe</td>\n",
       "      <td>2002.0</td>\n",
       "      <td>7.227991</td>\n",
       "      <td>28</td>\n",
       "      <td>0.518519</td>\n",
       "      <td>3.747847</td>\n",
       "    </tr>\n",
       "    <tr>\n",
       "      <th>227</th>\n",
       "      <td>Zimbabwe</td>\n",
       "      <td>2003.0</td>\n",
       "      <td>26.303416</td>\n",
       "      <td>26</td>\n",
       "      <td>0.481481</td>\n",
       "      <td>12.664608</td>\n",
       "    </tr>\n",
       "  </tbody>\n",
       "</table>\n",
       "<p>228 rows × 6 columns</p>\n",
       "</div>"
      ],
      "text/plain": [
       "            unit    time    tau_aux  tau_wt_aux    tau_wt    att_aux\n",
       "0        Albania  2002.0   6.979981          28  0.518519   3.619249\n",
       "1        Albania  2003.0  13.952256          26  0.481481   6.717753\n",
       "2         Angola  2002.0   6.987142          28  0.518519   3.622962\n",
       "3         Angola  2003.0  14.136355          26  0.481481   6.806393\n",
       "4      Argentina  2002.0   6.959207          28  0.518519   3.608478\n",
       "..           ...     ...        ...         ...       ...        ...\n",
       "223  Yemen, Rep.  2003.0  26.303416          26  0.481481  12.664608\n",
       "224       Zambia  2002.0   7.197983          28  0.518519   3.732288\n",
       "225       Zambia  2003.0  26.303416          26  0.481481  12.664608\n",
       "226     Zimbabwe  2002.0   7.227991          28  0.518519   3.747847\n",
       "227     Zimbabwe  2003.0  26.303416          26  0.481481  12.664608\n",
       "\n",
       "[228 rows x 6 columns]"
      ]
     },
     "execution_count": 43,
     "metadata": {},
     "output_type": "execute_result"
    }
   ],
   "source": [
    "result = att_table.groupby('unit', group_keys=True)\\\n",
    "    .apply(\n",
    "        lambda x: x.assign(\n",
    "            tau_wt=x['tau_wt_aux'] / x['tau_wt_aux'].sum(),\n",
    "            # att_aux= (x['tau_aux'] * (x['tau_wt_aux'] / x['tau_wt_aux'].sum())).sum()\n",
    "            att_aux=x['tau_aux'] * (x['tau_wt_aux'] / x['tau_wt_aux'].sum())\n",
    "            )\n",
    "        ).reset_index(drop=True)\n",
    "result"
   ]
  },
  {
   "cell_type": "code",
   "execution_count": 49,
   "metadata": {},
   "outputs": [
    {
     "data": {
      "text/plain": [
       "265.1315201018747"
      ]
     },
     "execution_count": 49,
     "metadata": {},
     "output_type": "execute_result"
    }
   ],
   "source": [
    "att_aux = result.groupby(\"unit\").sum().att_aux.to_numpy()\n",
    "((N-1)/N) * (N - 1) * varianza(att_aux)"
   ]
  },
  {
   "cell_type": "code",
   "execution_count": 58,
   "metadata": {},
   "outputs": [],
   "source": [
    "att_aux_all = []\n",
    "for i in range(N):\n",
    "\tref_unit = uniqID[i]\n",
    "\tref_tbl_unit = att_table.query(\"unit in @ref_unit\")\n",
    "\ttau_ref_aux = ref_tbl_unit.tau_aux\n",
    "\ttau_wt_aux = ref_tbl_unit.tau_wt_aux\n",
    "\ttau_wt_aux = tau_wt_aux / np.sum(tau_wt_aux)\n",
    "\tatt_aux = np.dot(tau_ref_aux, tau_wt_aux)\n",
    "\tatt_aux_all.append(att_aux)"
   ]
  },
  {
   "attachments": {},
   "cell_type": "markdown",
   "metadata": {},
   "source": [
    "## Bootstrap"
   ]
  },
  {
   "cell_type": "code",
   "execution_count": null,
   "metadata": {},
   "outputs": [],
   "source": [
    "q2 = sdid(quota(), \"country\", 'year', 'quota', 'womparl')\n",
    "q2"
   ]
  },
  {
   "cell_type": "code",
   "execution_count": 104,
   "metadata": {},
   "outputs": [],
   "source": [
    "def bootstrap_se(estimate, n_reps = 50):\n",
    "    data_ref = estimate[\"data_ref\"]\n",
    "    uniqueID = np.unique(data_ref.unit)\n",
    "    N = len(uniqueID)\n",
    "    def theta_bt():\n",
    "        sample_id = np.random.choice(uniqueID, replace=True, size=N)\n",
    "        def sample_concat(_id):\n",
    "            sample_id_n = sample_id[_id]\n",
    "            data_c = data_ref.query(\"unit in @sample_id_n\")\n",
    "            data_c = data_c.assign(unit1=str(data_c['unit']) + str(_id))\n",
    "            return data_c\n",
    "        sampled_df = pd.concat([sample_concat(i) for i in range(N)], ignore_index=True)\n",
    "        if len(np.unique(sampled_df.treatment)) != 2:\n",
    "            theta_bt()\n",
    "        att_aux = sdid(sampled_df, \"unit1\", \"time\", \"treatment\", \"outcome\")[\"att\"]\n",
    "        return att_aux\n",
    "    t = 0\n",
    "    att_bt = np.array([])\n",
    "    while t < n_reps:\n",
    "        t+= 1\n",
    "        aux = theta_bt()\n",
    "        att_bt = np.append(att_bt, aux)\n",
    "    se_bootstrap = np.sqrt(1 / n_reps * np.sum((att_bt - np.sum(att_bt / n_reps)) ** 2))\n",
    "    return se_bootstrap"
   ]
  },
  {
   "cell_type": "code",
   "execution_count": 105,
   "metadata": {},
   "outputs": [
    {
     "data": {
      "text/plain": [
       "2.926877930866465"
      ]
     },
     "execution_count": 105,
     "metadata": {},
     "output_type": "execute_result"
    }
   ],
   "source": [
    "bootstrap_se(q2)"
   ]
  },
  {
   "cell_type": "code",
   "execution_count": 3,
   "metadata": {},
   "outputs": [],
   "source": [
    "estimate = q2\n",
    "data_ref = estimate[\"data_ref\"]\n",
    "uniqueID = np.unique(data_ref.unit)\n",
    "N = len(uniqueID)"
   ]
  },
  {
   "cell_type": "code",
   "execution_count": 4,
   "metadata": {},
   "outputs": [],
   "source": [
    "def theta_bt():\n",
    "    sample_id = np.random.choice(uniqueID, replace=True, size=N)\n",
    "    def sample_concat(_id):\n",
    "        sample_id_n = sample_id[_id]\n",
    "        data_c = data_ref.query(\"unit in @sample_id_n\")\n",
    "        data_c = data_c.assign(unit1=str(data_c['unit']) + str(_id))\n",
    "        return data_c\n",
    "    sampled_df = pd.concat([sample_concat(i) for i in range(N)], ignore_index=True)\n",
    "    if len(np.unique(sampled_df.treatment)) != 2:\n",
    "        theta_bt()\n",
    "    att_aux = sdid(sampled_df, \"unit1\", \"time\", \"treatment\", \"outcome\")[\"att\"]\n",
    "    return att_aux\n"
   ]
  },
  {
   "cell_type": "code",
   "execution_count": 18,
   "metadata": {},
   "outputs": [],
   "source": [
    "t = 0\n",
    "att_bt = np.array([])\n",
    "n_reps = 50\n",
    "\n",
    "while t < n_reps:\n",
    "    t+= 1\n",
    "    aux = theta_bt()\n",
    "    att_bt = np.append(att_bt, aux)"
   ]
  },
  {
   "cell_type": "code",
   "execution_count": 19,
   "metadata": {},
   "outputs": [
    {
     "data": {
      "text/plain": [
       "3.743576763233814"
      ]
     },
     "execution_count": 19,
     "metadata": {},
     "output_type": "execute_result"
    }
   ],
   "source": [
    "se_bootstrap = np.sqrt(1 / n_reps * np.sum((att_bt - np.sum(att_bt / n_reps)) ** 2))\n",
    "se_bootstrap\n",
    "# return(se_bootstrap)()"
   ]
  },
  {
   "attachments": {},
   "cell_type": "markdown",
   "metadata": {},
   "source": [
    "##  Placebo"
   ]
  },
  {
   "cell_type": "code",
   "execution_count": 106,
   "metadata": {},
   "outputs": [],
   "source": [
    "def placebo_se(estimate, n_reps=50):\n",
    "    data_ref = estimate[\"data_ref\"]\n",
    "    tr_years = data_ref.query(\"time == tyear and tyear != 0\").time\n",
    "    N_tr = len(tr_years)\n",
    "    df_co = data_ref.query(\"treated == 0\")\n",
    "    units_df_co = np.unique(df_co.unit)\n",
    "    N_co = len(units_df_co)\n",
    "    N_aux = N_co - N_tr\n",
    "    \n",
    "    def theta_pb():\n",
    "        plabeo_years = pd.DataFrame({\n",
    "            \"unit\": np.random.choice(units_df_co, size=N_tr),\n",
    "            'tyear1': tr_years\n",
    "        })\n",
    "        aux_data = df_co.merge(plabeo_years, on=\"unit\", how='outer').sort_values(\"tyear1\")\n",
    "        aux_data = aux_data.assign(\n",
    "            tyear=aux_data.tyear1.fillna(aux_data[\"tyear\"])\n",
    "        )\n",
    "        aux_data = aux_data.assign(\n",
    "            treatment=np.where(((aux_data.tyear != 0) & (aux_data.time == aux_data.tyear)), 1, 0)\n",
    "        ).groupby(\"unit\", group_keys=False).apply(\n",
    "            lambda x: x.assign(\n",
    "                treated=x[\"treatment\"].max()\n",
    "            )\n",
    "        ).reset_index(drop=True)\n",
    "        att = sdid(aux_data, \"unit\", \"time\", \"treatment\", \"outcome\")\n",
    "        return att[\"att\"]\n",
    "    \n",
    "    t = 0\n",
    "    att_pb = np.array([])\n",
    "    while t < n_reps:\n",
    "        t += 1\n",
    "        aux = theta_pb()\n",
    "        att_pb = np.append(att_pb, aux)\n",
    "    se_placebo = np.sqrt(1 / n_reps * np.sum((att_pb - np.sum(att_pb / n_reps)) ** 2))\n",
    "    return se_placebo\n"
   ]
  },
  {
   "cell_type": "code",
   "execution_count": 101,
   "metadata": {},
   "outputs": [
    {
     "data": {
      "text/plain": [
       "1.4356881251640832"
      ]
     },
     "execution_count": 101,
     "metadata": {},
     "output_type": "execute_result"
    }
   ],
   "source": [
    "placebo_se(q2)"
   ]
  }
 ],
 "metadata": {
  "kernelspec": {
   "display_name": "synthdid.py-lMavOqyu",
   "language": "python",
   "name": "python3"
  },
  "language_info": {
   "codemirror_mode": {
    "name": "ipython",
    "version": 3
   },
   "file_extension": ".py",
   "mimetype": "text/x-python",
   "name": "python",
   "nbconvert_exporter": "python",
   "pygments_lexer": "ipython3",
   "version": "3.8.0"
  },
  "orig_nbformat": 4
 },
 "nbformat": 4,
 "nbformat_minor": 2
}

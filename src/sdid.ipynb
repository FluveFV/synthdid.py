{
 "cells": [
  {
   "cell_type": "code",
   "execution_count": 14,
   "metadata": {},
   "outputs": [],
   "source": [
    "from sdid import sdid\n",
    "import pandas as pd\n",
    "from get_data import quota, california_prop99"
   ]
  },
  {
   "cell_type": "code",
   "execution_count": 15,
   "metadata": {},
   "outputs": [
    {
     "name": "stdout",
     "output_type": "stream",
     "text": [
      "-15.60383\n"
     ]
    }
   ],
   "source": [
    "a = sdid(california_prop99(), \"State\", \"Year\", \"treated\", \"PacksPerCapita\")\n",
    "print(a)"
   ]
  },
  {
   "cell_type": "code",
   "execution_count": 16,
   "metadata": {},
   "outputs": [
    {
     "name": "stdout",
     "output_type": "stream",
     "text": [
      "8.03402\n"
     ]
    }
   ],
   "source": [
    "b = sdid(quota(), \"country\", \"year\", \"quota\", \"womparl\")\n",
    "print(b)"
   ]
  },
  {
   "cell_type": "code",
   "execution_count": 17,
   "metadata": {},
   "outputs": [
    {
     "data": {
      "text/plain": [
       "10.33052"
      ]
     },
     "execution_count": 17,
     "metadata": {},
     "output_type": "execute_result"
    }
   ],
   "source": [
    "qta = quota()\n",
    "drop_country = [\n",
    "\t\"Algeria\", \"Kenya\", \"Samoa\", \"Swaziland\", \"Tanzania\"\n",
    "]\n",
    "quota_if = qta.query(\"country not in @drop_country\")\n",
    "c = sdid(quota_if, \"country\", \"year\", \"quota\", \"womparl\")\n",
    "c"
   ]
  },
  {
   "cell_type": "code",
   "execution_count": null,
   "metadata": {},
   "outputs": [],
   "source": [
    "import numpy as np, pandas as pd\n",
    "from get_data import quota, california_prop99\n",
    "from utils import panel_matrices, collapse_form\n",
    "from solver import fw_step, sc_weight_fw, sc_weight_covariates\n",
    "from sdid import sparsify_function, varianza, sdid\n",
    "# sdid(quota(), \"country\", \"year\", \"quota\", \"womparl\", [\"lnmmrt\", \"lngdp\"])"
   ]
  },
  {
   "cell_type": "code",
   "execution_count": null,
   "metadata": {},
   "outputs": [],
   "source": [
    "quota_data = quota()\n",
    "quota_data = quota_data.dropna(subset = \"lngdp\")"
   ]
  },
  {
   "cell_type": "code",
   "execution_count": null,
   "metadata": {},
   "outputs": [
    {
     "data": {
      "text/plain": [
       "(8.10068,\n",
       "      time   att_time    att_wt   N0  T0  N1  T1  beta_covariate\n",
       " 0  2000.0   8.305037  0.170213  106  10   1  16       -0.286527\n",
       " 1  2002.0   6.865237  0.297872  106  12   2  14       -0.286527\n",
       " 2  2003.0  14.337599  0.276596  106  13   2  13       -0.286527\n",
       " 3  2005.0  -3.298523  0.117021  106  15   1  11       -0.286527\n",
       " 4  2010.0   2.694427  0.063830  106  20   1   6       -0.286527\n",
       " 5  2012.0  21.731035  0.042553  106  22   1   4       -0.286527\n",
       " 6  2013.0  -1.076011  0.031915  106  23   1   3       -0.286527)"
      ]
     },
     "execution_count": 3,
     "metadata": {},
     "output_type": "execute_result"
    }
   ],
   "source": [
    "sdid(quota_data, \"country\", \"year\", \"quota\", \"womparl\", [\"lngdp\"])"
   ]
  },
  {
   "cell_type": "code",
   "execution_count": 2,
   "metadata": {},
   "outputs": [],
   "source": [
    "# tdf, ttime = panel_matrices(california_prop99(), \"State\", \"Year\", \"treated\", \"PacksPerCapita\")\n",
    "tdf, ttime = panel_matrices(quota(), \"country\", \"year\", \"quota\", \"womparl\", [\"lngdp\"])"
   ]
  },
  {
   "cell_type": "code",
   "execution_count": 2,
   "metadata": {},
   "outputs": [
    {
     "data": {
      "text/plain": [
       "-0.14172"
      ]
     },
     "execution_count": 2,
     "metadata": {},
     "output_type": "execute_result"
    }
   ],
   "source": [
    "sdid(quota(), \"country\", \"year\", \"quota\", \"womparl\", [\"lngdp\"])"
   ]
  }
 ],
 "metadata": {
  "kernelspec": {
   "display_name": "synthdid.py-lMavOqyu",
   "language": "python",
   "name": "python3"
  },
  "language_info": {
   "codemirror_mode": {
    "name": "ipython",
    "version": 3
   },
   "file_extension": ".py",
   "mimetype": "text/x-python",
   "name": "python",
   "nbconvert_exporter": "python",
   "pygments_lexer": "ipython3",
   "version": "3.8.0"
  },
  "orig_nbformat": 4
 },
 "nbformat": 4,
 "nbformat_minor": 2
}

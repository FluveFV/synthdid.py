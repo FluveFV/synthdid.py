{
 "cells": [
  {
   "cell_type": "code",
   "execution_count": 189,
   "metadata": {},
   "outputs": [],
   "source": [
    "from  get_data import *\n",
    "from  placebo_simulations import *\n",
    "# import  solver\n",
    "from solver import *\n",
    "from  synthdid import *"
   ]
  },
  {
   "cell_type": "code",
   "execution_count": 125,
   "metadata": {},
   "outputs": [
    {
     "name": "stderr",
     "output_type": "stream",
     "text": [
      "C:\\Users\\User\\AppData\\Local\\Temp\\ipykernel_9496\\2564721855.py:6: FutureWarning: The frame.append method is deprecated and will be removed from pandas in a future version. Use pandas.concat instead.\n",
      "  a = a.append(a1)\n",
      "C:\\Users\\User\\AppData\\Local\\Temp\\ipykernel_9496\\2564721855.py:6: FutureWarning: The frame.append method is deprecated and will be removed from pandas in a future version. Use pandas.concat instead.\n",
      "  a = a.append(a1)\n",
      "C:\\Users\\User\\AppData\\Local\\Temp\\ipykernel_9496\\2564721855.py:6: FutureWarning: The frame.append method is deprecated and will be removed from pandas in a future version. Use pandas.concat instead.\n",
      "  a = a.append(a1)\n",
      "C:\\Users\\User\\AppData\\Local\\Temp\\ipykernel_9496\\2564721855.py:6: FutureWarning: The frame.append method is deprecated and will be removed from pandas in a future version. Use pandas.concat instead.\n",
      "  a = a.append(a1)\n",
      "C:\\Users\\User\\AppData\\Local\\Temp\\ipykernel_9496\\2564721855.py:6: FutureWarning: The frame.append method is deprecated and will be removed from pandas in a future version. Use pandas.concat instead.\n",
      "  a = a.append(a1)\n",
      "C:\\Users\\User\\AppData\\Local\\Temp\\ipykernel_9496\\2564721855.py:6: FutureWarning: The frame.append method is deprecated and will be removed from pandas in a future version. Use pandas.concat instead.\n",
      "  a = a.append(a1)\n",
      "C:\\Users\\User\\AppData\\Local\\Temp\\ipykernel_9496\\2564721855.py:6: FutureWarning: The frame.append method is deprecated and will be removed from pandas in a future version. Use pandas.concat instead.\n",
      "  a = a.append(a1)\n",
      "C:\\Users\\User\\AppData\\Local\\Temp\\ipykernel_9496\\2564721855.py:6: FutureWarning: The frame.append method is deprecated and will be removed from pandas in a future version. Use pandas.concat instead.\n",
      "  a = a.append(a1)\n",
      "C:\\Users\\User\\AppData\\Local\\Temp\\ipykernel_9496\\2564721855.py:6: FutureWarning: The frame.append method is deprecated and will be removed from pandas in a future version. Use pandas.concat instead.\n",
      "  a = a.append(a1)\n",
      "C:\\Users\\User\\AppData\\Local\\Temp\\ipykernel_9496\\2564721855.py:6: FutureWarning: The frame.append method is deprecated and will be removed from pandas in a future version. Use pandas.concat instead.\n",
      "  a = a.append(a1)\n",
      "C:\\Users\\User\\AppData\\Local\\Temp\\ipykernel_9496\\2564721855.py:6: FutureWarning: The frame.append method is deprecated and will be removed from pandas in a future version. Use pandas.concat instead.\n",
      "  a = a.append(a1)\n",
      "C:\\Users\\User\\AppData\\Local\\Temp\\ipykernel_9496\\2564721855.py:6: FutureWarning: The frame.append method is deprecated and will be removed from pandas in a future version. Use pandas.concat instead.\n",
      "  a = a.append(a1)\n",
      "C:\\Users\\User\\AppData\\Local\\Temp\\ipykernel_9496\\2564721855.py:6: FutureWarning: The frame.append method is deprecated and will be removed from pandas in a future version. Use pandas.concat instead.\n",
      "  a = a.append(a1)\n",
      "C:\\Users\\User\\AppData\\Local\\Temp\\ipykernel_9496\\2564721855.py:6: FutureWarning: The frame.append method is deprecated and will be removed from pandas in a future version. Use pandas.concat instead.\n",
      "  a = a.append(a1)\n",
      "C:\\Users\\User\\AppData\\Local\\Temp\\ipykernel_9496\\2564721855.py:6: FutureWarning: The frame.append method is deprecated and will be removed from pandas in a future version. Use pandas.concat instead.\n",
      "  a = a.append(a1)\n",
      "C:\\Users\\User\\AppData\\Local\\Temp\\ipykernel_9496\\2564721855.py:6: FutureWarning: The frame.append method is deprecated and will be removed from pandas in a future version. Use pandas.concat instead.\n",
      "  a = a.append(a1)\n",
      "C:\\Users\\User\\AppData\\Local\\Temp\\ipykernel_9496\\2564721855.py:6: FutureWarning: The frame.append method is deprecated and will be removed from pandas in a future version. Use pandas.concat instead.\n",
      "  a = a.append(a1)\n",
      "C:\\Users\\User\\AppData\\Local\\Temp\\ipykernel_9496\\2564721855.py:6: FutureWarning: The frame.append method is deprecated and will be removed from pandas in a future version. Use pandas.concat instead.\n",
      "  a = a.append(a1)\n",
      "C:\\Users\\User\\AppData\\Local\\Temp\\ipykernel_9496\\2564721855.py:6: FutureWarning: The frame.append method is deprecated and will be removed from pandas in a future version. Use pandas.concat instead.\n",
      "  a = a.append(a1)\n",
      "C:\\Users\\User\\AppData\\Local\\Temp\\ipykernel_9496\\2564721855.py:6: FutureWarning: The frame.append method is deprecated and will be removed from pandas in a future version. Use pandas.concat instead.\n",
      "  a = a.append(a1)\n",
      "C:\\Users\\User\\AppData\\Local\\Temp\\ipykernel_9496\\2564721855.py:6: FutureWarning: The frame.append method is deprecated and will be removed from pandas in a future version. Use pandas.concat instead.\n",
      "  a = a.append(a1)\n",
      "C:\\Users\\User\\AppData\\Local\\Temp\\ipykernel_9496\\2564721855.py:6: FutureWarning: The frame.append method is deprecated and will be removed from pandas in a future version. Use pandas.concat instead.\n",
      "  a = a.append(a1)\n",
      "C:\\Users\\User\\AppData\\Local\\Temp\\ipykernel_9496\\2564721855.py:6: FutureWarning: The frame.append method is deprecated and will be removed from pandas in a future version. Use pandas.concat instead.\n",
      "  a = a.append(a1)\n",
      "C:\\Users\\User\\AppData\\Local\\Temp\\ipykernel_9496\\2564721855.py:6: FutureWarning: The frame.append method is deprecated and will be removed from pandas in a future version. Use pandas.concat instead.\n",
      "  a = a.append(a1)\n",
      "C:\\Users\\User\\AppData\\Local\\Temp\\ipykernel_9496\\2564721855.py:6: FutureWarning: The frame.append method is deprecated and will be removed from pandas in a future version. Use pandas.concat instead.\n",
      "  a = a.append(a1)\n",
      "C:\\Users\\User\\AppData\\Local\\Temp\\ipykernel_9496\\2564721855.py:6: FutureWarning: The frame.append method is deprecated and will be removed from pandas in a future version. Use pandas.concat instead.\n",
      "  a = a.append(a1)\n",
      "C:\\Users\\User\\AppData\\Local\\Temp\\ipykernel_9496\\2564721855.py:6: FutureWarning: The frame.append method is deprecated and will be removed from pandas in a future version. Use pandas.concat instead.\n",
      "  a = a.append(a1)\n",
      "C:\\Users\\User\\AppData\\Local\\Temp\\ipykernel_9496\\2564721855.py:6: FutureWarning: The frame.append method is deprecated and will be removed from pandas in a future version. Use pandas.concat instead.\n",
      "  a = a.append(a1)\n",
      "C:\\Users\\User\\AppData\\Local\\Temp\\ipykernel_9496\\2564721855.py:6: FutureWarning: The frame.append method is deprecated and will be removed from pandas in a future version. Use pandas.concat instead.\n",
      "  a = a.append(a1)\n",
      "C:\\Users\\User\\AppData\\Local\\Temp\\ipykernel_9496\\2564721855.py:6: FutureWarning: The frame.append method is deprecated and will be removed from pandas in a future version. Use pandas.concat instead.\n",
      "  a = a.append(a1)\n",
      "C:\\Users\\User\\AppData\\Local\\Temp\\ipykernel_9496\\2564721855.py:6: FutureWarning: The frame.append method is deprecated and will be removed from pandas in a future version. Use pandas.concat instead.\n",
      "  a = a.append(a1)\n",
      "C:\\Users\\User\\AppData\\Local\\Temp\\ipykernel_9496\\2564721855.py:6: FutureWarning: The frame.append method is deprecated and will be removed from pandas in a future version. Use pandas.concat instead.\n",
      "  a = a.append(a1)\n",
      "C:\\Users\\User\\AppData\\Local\\Temp\\ipykernel_9496\\2564721855.py:6: FutureWarning: The frame.append method is deprecated and will be removed from pandas in a future version. Use pandas.concat instead.\n",
      "  a = a.append(a1)\n",
      "C:\\Users\\User\\AppData\\Local\\Temp\\ipykernel_9496\\2564721855.py:6: FutureWarning: The frame.append method is deprecated and will be removed from pandas in a future version. Use pandas.concat instead.\n",
      "  a = a.append(a1)\n",
      "C:\\Users\\User\\AppData\\Local\\Temp\\ipykernel_9496\\2564721855.py:6: FutureWarning: The frame.append method is deprecated and will be removed from pandas in a future version. Use pandas.concat instead.\n",
      "  a = a.append(a1)\n",
      "C:\\Users\\User\\AppData\\Local\\Temp\\ipykernel_9496\\2564721855.py:6: FutureWarning: The frame.append method is deprecated and will be removed from pandas in a future version. Use pandas.concat instead.\n",
      "  a = a.append(a1)\n",
      "C:\\Users\\User\\AppData\\Local\\Temp\\ipykernel_9496\\2564721855.py:6: FutureWarning: The frame.append method is deprecated and will be removed from pandas in a future version. Use pandas.concat instead.\n",
      "  a = a.append(a1)\n",
      "C:\\Users\\User\\AppData\\Local\\Temp\\ipykernel_9496\\2564721855.py:6: FutureWarning: The frame.append method is deprecated and will be removed from pandas in a future version. Use pandas.concat instead.\n",
      "  a = a.append(a1)\n",
      "C:\\Users\\User\\AppData\\Local\\Temp\\ipykernel_9496\\2564721855.py:6: FutureWarning: The frame.append method is deprecated and will be removed from pandas in a future version. Use pandas.concat instead.\n",
      "  a = a.append(a1)\n",
      "C:\\Users\\User\\AppData\\Local\\Temp\\ipykernel_9496\\2564721855.py:6: FutureWarning: The frame.append method is deprecated and will be removed from pandas in a future version. Use pandas.concat instead.\n",
      "  a = a.append(a1)\n",
      "C:\\Users\\User\\AppData\\Local\\Temp\\ipykernel_9496\\2564721855.py:6: FutureWarning: The frame.append method is deprecated and will be removed from pandas in a future version. Use pandas.concat instead.\n",
      "  a = a.append(a1)\n",
      "C:\\Users\\User\\AppData\\Local\\Temp\\ipykernel_9496\\2564721855.py:6: FutureWarning: The frame.append method is deprecated and will be removed from pandas in a future version. Use pandas.concat instead.\n",
      "  a = a.append(a1)\n",
      "C:\\Users\\User\\AppData\\Local\\Temp\\ipykernel_9496\\2564721855.py:6: FutureWarning: The frame.append method is deprecated and will be removed from pandas in a future version. Use pandas.concat instead.\n",
      "  a = a.append(a1)\n",
      "C:\\Users\\User\\AppData\\Local\\Temp\\ipykernel_9496\\2564721855.py:6: FutureWarning: The frame.append method is deprecated and will be removed from pandas in a future version. Use pandas.concat instead.\n",
      "  a = a.append(a1)\n",
      "C:\\Users\\User\\AppData\\Local\\Temp\\ipykernel_9496\\2564721855.py:6: FutureWarning: The frame.append method is deprecated and will be removed from pandas in a future version. Use pandas.concat instead.\n",
      "  a = a.append(a1)\n",
      "C:\\Users\\User\\AppData\\Local\\Temp\\ipykernel_9496\\2564721855.py:6: FutureWarning: The frame.append method is deprecated and will be removed from pandas in a future version. Use pandas.concat instead.\n",
      "  a = a.append(a1)\n",
      "C:\\Users\\User\\AppData\\Local\\Temp\\ipykernel_9496\\2564721855.py:6: FutureWarning: The frame.append method is deprecated and will be removed from pandas in a future version. Use pandas.concat instead.\n",
      "  a = a.append(a1)\n",
      "C:\\Users\\User\\AppData\\Local\\Temp\\ipykernel_9496\\2564721855.py:6: FutureWarning: The frame.append method is deprecated and will be removed from pandas in a future version. Use pandas.concat instead.\n",
      "  a = a.append(a1)\n"
     ]
    }
   ],
   "source": [
    "df = pd.read_csv(\"https://raw.githubusercontent.com/d2cml-ai/synthdid/solver/data/PENN.csv\", sep = \";\")\n",
    "a = pd.DataFrame()\n",
    "for i in np.arange(1,49):\n",
    "    a1 = pd.DataFrame(df.iloc[111*(i-1):111*i,:].log_gdp).T\n",
    "    a1.columns = df.iloc[:111,:].country.tolist()\n",
    "    a = a.append(a1)\n",
    "a.index = np.unique(df.year).tolist()\n",
    "a = a.sort_index(axis=1)\n",
    "df = a"
   ]
  },
  {
   "cell_type": "code",
   "execution_count": 172,
   "metadata": {},
   "outputs": [
    {
     "data": {
      "text/plain": [
       "'Algeria'"
      ]
     },
     "execution_count": 172,
     "metadata": {},
     "output_type": "execute_result"
    }
   ],
   "source": [
    "df.columns.tolist()[0]"
   ]
  },
  {
   "cell_type": "code",
   "execution_count": 167,
   "metadata": {},
   "outputs": [],
   "source": [
    "# df = fetch_CaliforniaSmoking()\n",
    "PRE_TEREM = [1960, 1968]\n",
    "POST_TEREM = [1979, 2007]\n",
    "\n",
    "TREATMENT = [\"Australia\"]"
   ]
  },
  {
   "cell_type": "code",
   "execution_count": 168,
   "metadata": {},
   "outputs": [
    {
     "data": {
      "text/plain": [
       "-0.056366672535069995"
      ]
     },
     "execution_count": 168,
     "metadata": {},
     "output_type": "execute_result"
    }
   ],
   "source": [
    "aa = synthdid_estimate(df, PRE_TEREM, POST_TEREM, TREATMENT)\n",
    "aa[\"estimate\"]"
   ]
  },
  {
   "cell_type": "code",
   "execution_count": 183,
   "metadata": {},
   "outputs": [
    {
     "name": "stdout",
     "output_type": "stream",
     "text": [
      "Algeria\n",
      "Argentina\n",
      "Australia\n",
      "Austria\n",
      "Bangladesh\n",
      "Barbados\n",
      "Belgium\n",
      "Benin\n",
      "Bolivia (Plurinational State of)\n",
      "Botswana\n",
      "Brazil\n",
      "Burkina Faso\n",
      "Burundi\n",
      "Cabo Verde\n",
      "Cameroon\n",
      "Canada\n",
      "Central African Republic\n",
      "Chad\n",
      "Chile\n",
      "China\n",
      "China, Hong Kong SAR\n",
      "Colombia\n",
      "Comoros\n",
      "Congo\n",
      "Costa Rica\n",
      "Cote d'Ivoire\n",
      "Cyprus\n",
      "D.R. of the Congo\n",
      "Denmark\n",
      "Dominican Republic\n",
      "Ecuador\n",
      "Egypt\n",
      "El Salvador\n",
      "Equatorial Guinea\n",
      "Ethiopia\n",
      "Fiji\n",
      "Finland\n",
      "France\n",
      "Gabon\n",
      "Gambia\n",
      "Germany\n",
      "Ghana\n",
      "Greece\n",
      "Guatemala\n",
      "Guinea\n",
      "Guinea-Bissau\n",
      "Haiti\n",
      "Honduras\n",
      "Iceland\n",
      "India\n",
      "Indonesia\n",
      "Iran (Islamic Republic of)\n",
      "Ireland\n",
      "Israel\n",
      "Italy\n",
      "Jamaica\n",
      "Japan\n",
      "Jordan\n",
      "Kenya\n",
      "Lesotho\n",
      "Luxembourg\n",
      "Madagascar\n",
      "Malawi\n",
      "Malaysia\n",
      "Mali\n",
      "Malta\n",
      "Mauritania\n",
      "Mauritius\n",
      "Mexico\n",
      "Morocco\n",
      "Mozambique\n",
      "Namibia\n",
      "Nepal\n",
      "Netherlands\n",
      "New Zealand\n",
      "Nicaragua\n",
      "Niger\n",
      "Nigeria\n",
      "Norway\n",
      "Pakistan\n",
      "Panama\n",
      "Paraguay\n",
      "Peru\n",
      "Philippines\n",
      "Portugal\n",
      "Republic of Korea\n",
      "Romania\n",
      "Rwanda\n",
      "Senegal\n",
      "Seychelles\n",
      "Singapore\n",
      "South Africa\n",
      "Spain\n",
      "Sri Lanka\n",
      "Sweden\n",
      "Switzerland\n",
      "Syrian Arab Republic\n",
      "Taiwan\n",
      "Thailand\n",
      "Togo\n",
      "Trinidad and Tobago\n",
      "Tunisia\n",
      "Turkey\n",
      "U.R. of Tanzania: Mainland\n",
      "Uganda\n",
      "United Kingdom\n",
      "United States\n",
      "Uruguay\n",
      "Venezuela (Bolivarian Republic of)\n",
      "Zambia\n",
      "Zimbabwe\n"
     ]
    }
   ],
   "source": [
    "for i in df.columns.tolist():\n",
    "    print(i)"
   ]
  },
  {
   "cell_type": "code",
   "execution_count": 187,
   "metadata": {},
   "outputs": [
    {
     "ename": "ValueError",
     "evalue": "No axis named 1 for object type Series",
     "output_type": "error",
     "traceback": [
      "\u001b[1;31m---------------------------------------------------------------------------\u001b[0m",
      "\u001b[1;31mKeyError\u001b[0m                                  Traceback (most recent call last)",
      "File \u001b[1;32mc:\\Python3\\lib\\site-packages\\pandas\\core\\generic.py:550\u001b[0m, in \u001b[0;36mNDFrame._get_axis_number\u001b[1;34m(cls, axis)\u001b[0m\n\u001b[0;32m    549\u001b[0m \u001b[39mtry\u001b[39;00m:\n\u001b[1;32m--> 550\u001b[0m     \u001b[39mreturn\u001b[39;00m \u001b[39mcls\u001b[39;49m\u001b[39m.\u001b[39;49m_AXIS_TO_AXIS_NUMBER[axis]\n\u001b[0;32m    551\u001b[0m \u001b[39mexcept\u001b[39;00m \u001b[39mKeyError\u001b[39;00m:\n",
      "\u001b[1;31mKeyError\u001b[0m: 1",
      "\nDuring handling of the above exception, another exception occurred:\n",
      "\u001b[1;31mValueError\u001b[0m                                Traceback (most recent call last)",
      "\u001b[1;32mc:\\Users\\User\\Documents\\GitHub\\synthdid.py\\src\\vcov_PENN.ipynb Cell 7\u001b[0m in \u001b[0;36m<cell line: 1>\u001b[1;34m()\u001b[0m\n\u001b[0;32m      <a href='vscode-notebook-cell:/c%3A/Users/User/Documents/GitHub/synthdid.py/src/vcov_PENN.ipynb#X10sZmlsZQ%3D%3D?line=0'>1</a>\u001b[0m \u001b[39mfor\u001b[39;00m i \u001b[39min\u001b[39;00m df\u001b[39m.\u001b[39mcolumns\u001b[39m.\u001b[39mtolist():\n\u001b[0;32m      <a href='vscode-notebook-cell:/c%3A/Users/User/Documents/GitHub/synthdid.py/src/vcov_PENN.ipynb#X10sZmlsZQ%3D%3D?line=1'>2</a>\u001b[0m     TREATMENT \u001b[39m=\u001b[39m i\n\u001b[1;32m----> <a href='vscode-notebook-cell:/c%3A/Users/User/Documents/GitHub/synthdid.py/src/vcov_PENN.ipynb#X10sZmlsZQ%3D%3D?line=2'>3</a>\u001b[0m     aa \u001b[39m=\u001b[39m synthdid_estimate(df, PRE_TEREM, POST_TEREM, i)\n\u001b[0;32m      <a href='vscode-notebook-cell:/c%3A/Users/User/Documents/GitHub/synthdid.py/src/vcov_PENN.ipynb#X10sZmlsZQ%3D%3D?line=3'>4</a>\u001b[0m     \u001b[39mprint\u001b[39m(i)\n",
      "File \u001b[1;32mc:\\Users\\User\\Documents\\GitHub\\synthdid.py\\src\\synthdid.py:53\u001b[0m, in \u001b[0;36msynthdid_estimate\u001b[1;34m(df, pre_term, post_term, treatment)\u001b[0m\n\u001b[0;32m     50\u001b[0m hat_omega \u001b[39m=\u001b[39m est_omega(l2_loss, Y_pre_c, Y_pre_t, zeta)\n\u001b[0;32m     51\u001b[0m hat_lambda \u001b[39m=\u001b[39m est_lambda(l2_loss, Y_pre_c, Y_post_c)\n\u001b[1;32m---> 53\u001b[0m result \u001b[39m=\u001b[39m pd\u001b[39m.\u001b[39mDataFrame({\u001b[39m\"\u001b[39m\u001b[39mactual_y\u001b[39m\u001b[39m\"\u001b[39m: target_y(df, pre_term, post_term, treatment)})\n\u001b[0;32m     54\u001b[0m actual_post_treat \u001b[39m=\u001b[39m result\u001b[39m.\u001b[39mloc[post_term[\u001b[39m0\u001b[39m]: , \u001b[39m\"\u001b[39m\u001b[39mactual_y\u001b[39m\u001b[39m\"\u001b[39m]\u001b[39m.\u001b[39mmean()\n\u001b[0;32m     56\u001b[0m result[\u001b[39m\"\u001b[39m\u001b[39msdid\u001b[39m\u001b[39m\"\u001b[39m] \u001b[39m=\u001b[39m sdid_trajectory(hat_omega, hat_lambda, Y_pre_c, Y_post_c)\n",
      "File \u001b[1;32mc:\\Users\\User\\Documents\\GitHub\\synthdid.py\\src\\synthdid.py:25\u001b[0m, in \u001b[0;36mtarget_y\u001b[1;34m(df, pre_term, post_term, treatment)\u001b[0m\n\u001b[0;32m     24\u001b[0m \u001b[39mdef\u001b[39;00m \u001b[39mtarget_y\u001b[39m(df, pre_term, post_term, treatment):\n\u001b[1;32m---> 25\u001b[0m     \u001b[39mreturn\u001b[39;00m df\u001b[39m.\u001b[39;49mloc[pre_term[\u001b[39m0\u001b[39;49m]: post_term[\u001b[39m1\u001b[39;49m], treatment]\u001b[39m.\u001b[39;49mmean(axis \u001b[39m=\u001b[39;49m \u001b[39m1\u001b[39;49m)\n",
      "File \u001b[1;32mc:\\Python3\\lib\\site-packages\\pandas\\core\\generic.py:11127\u001b[0m, in \u001b[0;36mNDFrame._add_numeric_operations.<locals>.mean\u001b[1;34m(self, axis, skipna, level, numeric_only, **kwargs)\u001b[0m\n\u001b[0;32m  11109\u001b[0m \u001b[39m@doc\u001b[39m(\n\u001b[0;32m  11110\u001b[0m     _num_doc,\n\u001b[0;32m  11111\u001b[0m     desc\u001b[39m=\u001b[39m\u001b[39m\"\u001b[39m\u001b[39mReturn the mean of the values over the requested axis.\u001b[39m\u001b[39m\"\u001b[39m,\n\u001b[1;32m   (...)\u001b[0m\n\u001b[0;32m  11125\u001b[0m     \u001b[39m*\u001b[39m\u001b[39m*\u001b[39mkwargs,\n\u001b[0;32m  11126\u001b[0m ):\n\u001b[1;32m> 11127\u001b[0m     \u001b[39mreturn\u001b[39;00m NDFrame\u001b[39m.\u001b[39mmean(\u001b[39mself\u001b[39m, axis, skipna, level, numeric_only, \u001b[39m*\u001b[39m\u001b[39m*\u001b[39mkwargs)\n",
      "File \u001b[1;32mc:\\Python3\\lib\\site-packages\\pandas\\core\\generic.py:10697\u001b[0m, in \u001b[0;36mNDFrame.mean\u001b[1;34m(self, axis, skipna, level, numeric_only, **kwargs)\u001b[0m\n\u001b[0;32m  10689\u001b[0m \u001b[39mdef\u001b[39;00m \u001b[39mmean\u001b[39m(\n\u001b[0;32m  10690\u001b[0m     \u001b[39mself\u001b[39m,\n\u001b[0;32m  10691\u001b[0m     axis: Axis \u001b[39m|\u001b[39m \u001b[39mNone\u001b[39;00m \u001b[39m|\u001b[39m lib\u001b[39m.\u001b[39mNoDefault \u001b[39m=\u001b[39m lib\u001b[39m.\u001b[39mno_default,\n\u001b[1;32m   (...)\u001b[0m\n\u001b[0;32m  10695\u001b[0m     \u001b[39m*\u001b[39m\u001b[39m*\u001b[39mkwargs,\n\u001b[0;32m  10696\u001b[0m ) \u001b[39m-\u001b[39m\u001b[39m>\u001b[39m Series \u001b[39m|\u001b[39m \u001b[39mfloat\u001b[39m:\n\u001b[1;32m> 10697\u001b[0m     \u001b[39mreturn\u001b[39;00m \u001b[39mself\u001b[39m\u001b[39m.\u001b[39m_stat_function(\n\u001b[0;32m  10698\u001b[0m         \u001b[39m\"\u001b[39m\u001b[39mmean\u001b[39m\u001b[39m\"\u001b[39m, nanops\u001b[39m.\u001b[39mnanmean, axis, skipna, level, numeric_only, \u001b[39m*\u001b[39m\u001b[39m*\u001b[39mkwargs\n\u001b[0;32m  10699\u001b[0m     )\n",
      "File \u001b[1;32mc:\\Python3\\lib\\site-packages\\pandas\\core\\generic.py:10649\u001b[0m, in \u001b[0;36mNDFrame._stat_function\u001b[1;34m(self, name, func, axis, skipna, level, numeric_only, **kwargs)\u001b[0m\n\u001b[0;32m  10639\u001b[0m     warnings\u001b[39m.\u001b[39mwarn(\n\u001b[0;32m  10640\u001b[0m         \u001b[39m\"\u001b[39m\u001b[39mUsing the level keyword in DataFrame and Series aggregations is \u001b[39m\u001b[39m\"\u001b[39m\n\u001b[0;32m  10641\u001b[0m         \u001b[39m\"\u001b[39m\u001b[39mdeprecated and will be removed in a future version. Use groupby \u001b[39m\u001b[39m\"\u001b[39m\n\u001b[1;32m   (...)\u001b[0m\n\u001b[0;32m  10644\u001b[0m         stacklevel\u001b[39m=\u001b[39mfind_stack_level(),\n\u001b[0;32m  10645\u001b[0m     )\n\u001b[0;32m  10646\u001b[0m     \u001b[39mreturn\u001b[39;00m \u001b[39mself\u001b[39m\u001b[39m.\u001b[39m_agg_by_level(\n\u001b[0;32m  10647\u001b[0m         name, axis\u001b[39m=\u001b[39maxis, level\u001b[39m=\u001b[39mlevel, skipna\u001b[39m=\u001b[39mskipna, numeric_only\u001b[39m=\u001b[39mnumeric_only\n\u001b[0;32m  10648\u001b[0m     )\n\u001b[1;32m> 10649\u001b[0m \u001b[39mreturn\u001b[39;00m \u001b[39mself\u001b[39;49m\u001b[39m.\u001b[39;49m_reduce(\n\u001b[0;32m  10650\u001b[0m     func, name\u001b[39m=\u001b[39;49mname, axis\u001b[39m=\u001b[39;49maxis, skipna\u001b[39m=\u001b[39;49mskipna, numeric_only\u001b[39m=\u001b[39;49mnumeric_only\n\u001b[0;32m  10651\u001b[0m )\n",
      "File \u001b[1;32mc:\\Python3\\lib\\site-packages\\pandas\\core\\series.py:4455\u001b[0m, in \u001b[0;36mSeries._reduce\u001b[1;34m(self, op, name, axis, skipna, numeric_only, filter_type, **kwds)\u001b[0m\n\u001b[0;32m   4452\u001b[0m delegate \u001b[39m=\u001b[39m \u001b[39mself\u001b[39m\u001b[39m.\u001b[39m_values\n\u001b[0;32m   4454\u001b[0m \u001b[39mif\u001b[39;00m axis \u001b[39mis\u001b[39;00m \u001b[39mnot\u001b[39;00m \u001b[39mNone\u001b[39;00m:\n\u001b[1;32m-> 4455\u001b[0m     \u001b[39mself\u001b[39;49m\u001b[39m.\u001b[39;49m_get_axis_number(axis)\n\u001b[0;32m   4457\u001b[0m \u001b[39mif\u001b[39;00m \u001b[39misinstance\u001b[39m(delegate, ExtensionArray):\n\u001b[0;32m   4458\u001b[0m     \u001b[39m# dispatch to ExtensionArray interface\u001b[39;00m\n\u001b[0;32m   4459\u001b[0m     \u001b[39mreturn\u001b[39;00m delegate\u001b[39m.\u001b[39m_reduce(name, skipna\u001b[39m=\u001b[39mskipna, \u001b[39m*\u001b[39m\u001b[39m*\u001b[39mkwds)\n",
      "File \u001b[1;32mc:\\Python3\\lib\\site-packages\\pandas\\core\\generic.py:552\u001b[0m, in \u001b[0;36mNDFrame._get_axis_number\u001b[1;34m(cls, axis)\u001b[0m\n\u001b[0;32m    550\u001b[0m     \u001b[39mreturn\u001b[39;00m \u001b[39mcls\u001b[39m\u001b[39m.\u001b[39m_AXIS_TO_AXIS_NUMBER[axis]\n\u001b[0;32m    551\u001b[0m \u001b[39mexcept\u001b[39;00m \u001b[39mKeyError\u001b[39;00m:\n\u001b[1;32m--> 552\u001b[0m     \u001b[39mraise\u001b[39;00m \u001b[39mValueError\u001b[39;00m(\u001b[39mf\u001b[39m\u001b[39m\"\u001b[39m\u001b[39mNo axis named \u001b[39m\u001b[39m{\u001b[39;00maxis\u001b[39m}\u001b[39;00m\u001b[39m for object type \u001b[39m\u001b[39m{\u001b[39;00m\u001b[39mcls\u001b[39m\u001b[39m.\u001b[39m\u001b[39m__name__\u001b[39m\u001b[39m}\u001b[39;00m\u001b[39m\"\u001b[39m)\n",
      "\u001b[1;31mValueError\u001b[0m: No axis named 1 for object type Series"
     ]
    }
   ],
   "source": [
    "for i in df.columns.tolist():\n",
    "    TREATMENT = i\n",
    "    aa = synthdid_estimate(df, PRE_TEREM, POST_TEREM, i)\n",
    "    print(i)\n",
    "    # if -0.008 <= aa[\"estimate\"] <= -0.009:\n",
    "    #     print(i)"
   ]
  },
  {
   "cell_type": "code",
   "execution_count": 144,
   "metadata": {},
   "outputs": [
    {
     "data": {
      "text/plain": [
       "(48, 111)"
      ]
     },
     "execution_count": 144,
     "metadata": {},
     "output_type": "execute_result"
    }
   ],
   "source": [
    "a.shape"
   ]
  },
  {
   "cell_type": "code",
   "execution_count": 147,
   "metadata": {},
   "outputs": [
    {
     "data": {
      "text/plain": [
       "(48, 111)"
      ]
     },
     "execution_count": 147,
     "metadata": {},
     "output_type": "execute_result"
    }
   ],
   "source": [
    "a.shape"
   ]
  },
  {
   "cell_type": "code",
   "execution_count": 188,
   "metadata": {},
   "outputs": [
    {
     "ename": "ValueError",
     "evalue": "No axis named 1 for object type Series",
     "output_type": "error",
     "traceback": [
      "\u001b[1;31m---------------------------------------------------------------------------\u001b[0m",
      "\u001b[1;31mKeyError\u001b[0m                                  Traceback (most recent call last)",
      "File \u001b[1;32mc:\\Python3\\lib\\site-packages\\pandas\\core\\generic.py:550\u001b[0m, in \u001b[0;36mNDFrame._get_axis_number\u001b[1;34m(cls, axis)\u001b[0m\n\u001b[0;32m    549\u001b[0m \u001b[39mtry\u001b[39;00m:\n\u001b[1;32m--> 550\u001b[0m     \u001b[39mreturn\u001b[39;00m \u001b[39mcls\u001b[39;49m\u001b[39m.\u001b[39;49m_AXIS_TO_AXIS_NUMBER[axis]\n\u001b[0;32m    551\u001b[0m \u001b[39mexcept\u001b[39;00m \u001b[39mKeyError\u001b[39;00m:\n",
      "\u001b[1;31mKeyError\u001b[0m: 1",
      "\nDuring handling of the above exception, another exception occurred:\n",
      "\u001b[1;31mValueError\u001b[0m                                Traceback (most recent call last)",
      "\u001b[1;32mc:\\Users\\User\\Documents\\GitHub\\synthdid.py\\src\\vcov_PENN.ipynb Cell 10\u001b[0m in \u001b[0;36m<cell line: 1>\u001b[1;34m()\u001b[0m\n\u001b[1;32m----> <a href='vscode-notebook-cell:/c%3A/Users/User/Documents/GitHub/synthdid.py/src/vcov_PENN.ipynb#X13sZmlsZQ%3D%3D?line=0'>1</a>\u001b[0m synthdid_estimate(df, PRE_TEREM, POST_TEREM, TREATMENT)\n",
      "File \u001b[1;32mc:\\Users\\User\\Documents\\GitHub\\synthdid.py\\src\\synthdid.py:53\u001b[0m, in \u001b[0;36msynthdid_estimate\u001b[1;34m(df, pre_term, post_term, treatment)\u001b[0m\n\u001b[0;32m     50\u001b[0m hat_omega \u001b[39m=\u001b[39m est_omega(l2_loss, Y_pre_c, Y_pre_t, zeta)\n\u001b[0;32m     51\u001b[0m hat_lambda \u001b[39m=\u001b[39m est_lambda(l2_loss, Y_pre_c, Y_post_c)\n\u001b[1;32m---> 53\u001b[0m result \u001b[39m=\u001b[39m pd\u001b[39m.\u001b[39mDataFrame({\u001b[39m\"\u001b[39m\u001b[39mactual_y\u001b[39m\u001b[39m\"\u001b[39m: target_y(df, pre_term, post_term, treatment)})\n\u001b[0;32m     54\u001b[0m actual_post_treat \u001b[39m=\u001b[39m result\u001b[39m.\u001b[39mloc[post_term[\u001b[39m0\u001b[39m]: , \u001b[39m\"\u001b[39m\u001b[39mactual_y\u001b[39m\u001b[39m\"\u001b[39m]\u001b[39m.\u001b[39mmean()\n\u001b[0;32m     56\u001b[0m result[\u001b[39m\"\u001b[39m\u001b[39msdid\u001b[39m\u001b[39m\"\u001b[39m] \u001b[39m=\u001b[39m sdid_trajectory(hat_omega, hat_lambda, Y_pre_c, Y_post_c)\n",
      "File \u001b[1;32mc:\\Users\\User\\Documents\\GitHub\\synthdid.py\\src\\synthdid.py:25\u001b[0m, in \u001b[0;36mtarget_y\u001b[1;34m(df, pre_term, post_term, treatment)\u001b[0m\n\u001b[0;32m     24\u001b[0m \u001b[39mdef\u001b[39;00m \u001b[39mtarget_y\u001b[39m(df, pre_term, post_term, treatment):\n\u001b[1;32m---> 25\u001b[0m     \u001b[39mreturn\u001b[39;00m df\u001b[39m.\u001b[39;49mloc[pre_term[\u001b[39m0\u001b[39;49m]: post_term[\u001b[39m1\u001b[39;49m], treatment]\u001b[39m.\u001b[39;49mmean(axis \u001b[39m=\u001b[39;49m \u001b[39m1\u001b[39;49m)\n",
      "File \u001b[1;32mc:\\Python3\\lib\\site-packages\\pandas\\core\\generic.py:11127\u001b[0m, in \u001b[0;36mNDFrame._add_numeric_operations.<locals>.mean\u001b[1;34m(self, axis, skipna, level, numeric_only, **kwargs)\u001b[0m\n\u001b[0;32m  11109\u001b[0m \u001b[39m@doc\u001b[39m(\n\u001b[0;32m  11110\u001b[0m     _num_doc,\n\u001b[0;32m  11111\u001b[0m     desc\u001b[39m=\u001b[39m\u001b[39m\"\u001b[39m\u001b[39mReturn the mean of the values over the requested axis.\u001b[39m\u001b[39m\"\u001b[39m,\n\u001b[1;32m   (...)\u001b[0m\n\u001b[0;32m  11125\u001b[0m     \u001b[39m*\u001b[39m\u001b[39m*\u001b[39mkwargs,\n\u001b[0;32m  11126\u001b[0m ):\n\u001b[1;32m> 11127\u001b[0m     \u001b[39mreturn\u001b[39;00m NDFrame\u001b[39m.\u001b[39mmean(\u001b[39mself\u001b[39m, axis, skipna, level, numeric_only, \u001b[39m*\u001b[39m\u001b[39m*\u001b[39mkwargs)\n",
      "File \u001b[1;32mc:\\Python3\\lib\\site-packages\\pandas\\core\\generic.py:10697\u001b[0m, in \u001b[0;36mNDFrame.mean\u001b[1;34m(self, axis, skipna, level, numeric_only, **kwargs)\u001b[0m\n\u001b[0;32m  10689\u001b[0m \u001b[39mdef\u001b[39;00m \u001b[39mmean\u001b[39m(\n\u001b[0;32m  10690\u001b[0m     \u001b[39mself\u001b[39m,\n\u001b[0;32m  10691\u001b[0m     axis: Axis \u001b[39m|\u001b[39m \u001b[39mNone\u001b[39;00m \u001b[39m|\u001b[39m lib\u001b[39m.\u001b[39mNoDefault \u001b[39m=\u001b[39m lib\u001b[39m.\u001b[39mno_default,\n\u001b[1;32m   (...)\u001b[0m\n\u001b[0;32m  10695\u001b[0m     \u001b[39m*\u001b[39m\u001b[39m*\u001b[39mkwargs,\n\u001b[0;32m  10696\u001b[0m ) \u001b[39m-\u001b[39m\u001b[39m>\u001b[39m Series \u001b[39m|\u001b[39m \u001b[39mfloat\u001b[39m:\n\u001b[1;32m> 10697\u001b[0m     \u001b[39mreturn\u001b[39;00m \u001b[39mself\u001b[39m\u001b[39m.\u001b[39m_stat_function(\n\u001b[0;32m  10698\u001b[0m         \u001b[39m\"\u001b[39m\u001b[39mmean\u001b[39m\u001b[39m\"\u001b[39m, nanops\u001b[39m.\u001b[39mnanmean, axis, skipna, level, numeric_only, \u001b[39m*\u001b[39m\u001b[39m*\u001b[39mkwargs\n\u001b[0;32m  10699\u001b[0m     )\n",
      "File \u001b[1;32mc:\\Python3\\lib\\site-packages\\pandas\\core\\generic.py:10649\u001b[0m, in \u001b[0;36mNDFrame._stat_function\u001b[1;34m(self, name, func, axis, skipna, level, numeric_only, **kwargs)\u001b[0m\n\u001b[0;32m  10639\u001b[0m     warnings\u001b[39m.\u001b[39mwarn(\n\u001b[0;32m  10640\u001b[0m         \u001b[39m\"\u001b[39m\u001b[39mUsing the level keyword in DataFrame and Series aggregations is \u001b[39m\u001b[39m\"\u001b[39m\n\u001b[0;32m  10641\u001b[0m         \u001b[39m\"\u001b[39m\u001b[39mdeprecated and will be removed in a future version. Use groupby \u001b[39m\u001b[39m\"\u001b[39m\n\u001b[1;32m   (...)\u001b[0m\n\u001b[0;32m  10644\u001b[0m         stacklevel\u001b[39m=\u001b[39mfind_stack_level(),\n\u001b[0;32m  10645\u001b[0m     )\n\u001b[0;32m  10646\u001b[0m     \u001b[39mreturn\u001b[39;00m \u001b[39mself\u001b[39m\u001b[39m.\u001b[39m_agg_by_level(\n\u001b[0;32m  10647\u001b[0m         name, axis\u001b[39m=\u001b[39maxis, level\u001b[39m=\u001b[39mlevel, skipna\u001b[39m=\u001b[39mskipna, numeric_only\u001b[39m=\u001b[39mnumeric_only\n\u001b[0;32m  10648\u001b[0m     )\n\u001b[1;32m> 10649\u001b[0m \u001b[39mreturn\u001b[39;00m \u001b[39mself\u001b[39;49m\u001b[39m.\u001b[39;49m_reduce(\n\u001b[0;32m  10650\u001b[0m     func, name\u001b[39m=\u001b[39;49mname, axis\u001b[39m=\u001b[39;49maxis, skipna\u001b[39m=\u001b[39;49mskipna, numeric_only\u001b[39m=\u001b[39;49mnumeric_only\n\u001b[0;32m  10651\u001b[0m )\n",
      "File \u001b[1;32mc:\\Python3\\lib\\site-packages\\pandas\\core\\series.py:4455\u001b[0m, in \u001b[0;36mSeries._reduce\u001b[1;34m(self, op, name, axis, skipna, numeric_only, filter_type, **kwds)\u001b[0m\n\u001b[0;32m   4452\u001b[0m delegate \u001b[39m=\u001b[39m \u001b[39mself\u001b[39m\u001b[39m.\u001b[39m_values\n\u001b[0;32m   4454\u001b[0m \u001b[39mif\u001b[39;00m axis \u001b[39mis\u001b[39;00m \u001b[39mnot\u001b[39;00m \u001b[39mNone\u001b[39;00m:\n\u001b[1;32m-> 4455\u001b[0m     \u001b[39mself\u001b[39;49m\u001b[39m.\u001b[39;49m_get_axis_number(axis)\n\u001b[0;32m   4457\u001b[0m \u001b[39mif\u001b[39;00m \u001b[39misinstance\u001b[39m(delegate, ExtensionArray):\n\u001b[0;32m   4458\u001b[0m     \u001b[39m# dispatch to ExtensionArray interface\u001b[39;00m\n\u001b[0;32m   4459\u001b[0m     \u001b[39mreturn\u001b[39;00m delegate\u001b[39m.\u001b[39m_reduce(name, skipna\u001b[39m=\u001b[39mskipna, \u001b[39m*\u001b[39m\u001b[39m*\u001b[39mkwds)\n",
      "File \u001b[1;32mc:\\Python3\\lib\\site-packages\\pandas\\core\\generic.py:552\u001b[0m, in \u001b[0;36mNDFrame._get_axis_number\u001b[1;34m(cls, axis)\u001b[0m\n\u001b[0;32m    550\u001b[0m     \u001b[39mreturn\u001b[39;00m \u001b[39mcls\u001b[39m\u001b[39m.\u001b[39m_AXIS_TO_AXIS_NUMBER[axis]\n\u001b[0;32m    551\u001b[0m \u001b[39mexcept\u001b[39;00m \u001b[39mKeyError\u001b[39;00m:\n\u001b[1;32m--> 552\u001b[0m     \u001b[39mraise\u001b[39;00m \u001b[39mValueError\u001b[39;00m(\u001b[39mf\u001b[39m\u001b[39m\"\u001b[39m\u001b[39mNo axis named \u001b[39m\u001b[39m{\u001b[39;00maxis\u001b[39m}\u001b[39;00m\u001b[39m for object type \u001b[39m\u001b[39m{\u001b[39;00m\u001b[39mcls\u001b[39m\u001b[39m.\u001b[39m\u001b[39m__name__\u001b[39m\u001b[39m}\u001b[39;00m\u001b[39m\"\u001b[39m)\n",
      "\u001b[1;31mValueError\u001b[0m: No axis named 1 for object type Series"
     ]
    }
   ],
   "source": [
    "synthdid_estimate(df, PRE_TEREM, POST_TEREM, TREATMENT)"
   ]
  },
  {
   "cell_type": "code",
   "execution_count": 193,
   "metadata": {},
   "outputs": [
    {
     "data": {
      "text/plain": [
       "[1979, 2007]"
      ]
     },
     "execution_count": 193,
     "metadata": {},
     "output_type": "execute_result"
    }
   ],
   "source": [
    "POST_TEREM"
   ]
  },
  {
   "cell_type": "code",
   "execution_count": null,
   "metadata": {},
   "outputs": [],
   "source": []
  },
  {
   "cell_type": "code",
   "execution_count": null,
   "metadata": {},
   "outputs": [],
   "source": []
  },
  {
   "cell_type": "code",
   "execution_count": null,
   "metadata": {},
   "outputs": [],
   "source": []
  },
  {
   "cell_type": "code",
   "execution_count": null,
   "metadata": {},
   "outputs": [],
   "source": []
  },
  {
   "cell_type": "code",
   "execution_count": null,
   "metadata": {},
   "outputs": [],
   "source": []
  },
  {
   "cell_type": "code",
   "execution_count": null,
   "metadata": {},
   "outputs": [],
   "source": []
  },
  {
   "cell_type": "code",
   "execution_count": null,
   "metadata": {},
   "outputs": [],
   "source": []
  }
 ],
 "metadata": {
  "kernelspec": {
   "display_name": "Python 3",
   "language": "python",
   "name": "python3"
  },
  "language_info": {
   "codemirror_mode": {
    "name": "ipython",
    "version": 3
   },
   "file_extension": ".py",
   "mimetype": "text/x-python",
   "name": "python",
   "nbconvert_exporter": "python",
   "pygments_lexer": "ipython3",
   "version": "3.9.1"
  },
  "orig_nbformat": 4,
  "vscode": {
   "interpreter": {
    "hash": "3bd13bc16400e16874b7ce28af58a129343287e94248a182c1f06fbb6b76ef8e"
   }
  }
 },
 "nbformat": 4,
 "nbformat_minor": 2
}
